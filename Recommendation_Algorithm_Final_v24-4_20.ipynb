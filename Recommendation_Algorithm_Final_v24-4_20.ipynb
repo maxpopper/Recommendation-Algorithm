{
 "cells": [
  {
   "cell_type": "code",
   "execution_count": 1,
   "id": "571ba1a7",
   "metadata": {},
   "outputs": [
    {
     "name": "stderr",
     "output_type": "stream",
     "text": [
      "C:\\Users\\david\\anaconda3\\Lib\\site-packages\\fuzzywuzzy\\fuzz.py:11: UserWarning: Using slow pure-python SequenceMatcher. Install python-Levenshtein to remove this warning\n",
      "  warnings.warn('Using slow pure-python SequenceMatcher. Install python-Levenshtein to remove this warning')\n"
     ]
    }
   ],
   "source": [
    "import pandas as pd\n",
    "from sklearn.preprocessing import MinMaxScaler, OneHotEncoder\n",
    "from sklearn.neighbors import NearestNeighbors\n",
    "from fuzzywuzzy import process\n",
    "import warnings"
   ]
  },
  {
   "cell_type": "code",
   "execution_count": 2,
   "id": "12bb64d0-69f6-4d3e-95fe-4bffdd0144c0",
   "metadata": {},
   "outputs": [],
   "source": [
    "# Filter out the specific warning about feature names not matching\n",
    "warnings.filterwarnings(\"ignore\", message=\"X does not have valid feature names, but NearestNeighbors was fitted with feature names\")"
   ]
  },
  {
   "cell_type": "code",
   "execution_count": 3,
   "id": "028d8148-01f1-4930-8aa0-cfedb86a1f63",
   "metadata": {},
   "outputs": [],
   "source": [
    "# Load the movie-item matrix from the CSV file\n",
    "user_item_matrix = pd.read_csv('./data_for_ml.csv')\n",
    "\n",
    "# 1. Handling Missing Values - dropping rows with missing values\n",
    "user_item_matrix.dropna(inplace=True)\n",
    "\n",
    "# 2. Normalizing Numerical Features\n",
    "scaler = MinMaxScaler()\n",
    "numerical_cols = ['Year', 'average_rating', 'rating_count']\n",
    "user_item_matrix[numerical_cols] = scaler.fit_transform(user_item_matrix[numerical_cols])\n",
    "\n",
    "# 3. Encoding Categorical Variables (Genre columns in this case)\n",
    "genre_cols = ['Action', 'Adventure', 'Animation', 'Children', 'Comedy', 'Crime', 'Documentary', \n",
    "              'Drama', 'Fantasy', 'Horror', 'IMAX', 'Mystery', 'Romance', 'Sci-Fi', 'Thriller', 'Western']\n",
    "encoder = OneHotEncoder(sparse_output=False)\n",
    "encoded_genres = encoder.fit_transform(user_item_matrix[genre_cols])\n",
    "\n",
    "# Create feature names for the encoded genres\n",
    "feature_names = []\n",
    "for category_list in encoder.categories_:\n",
    "    feature_names.extend(category_list)\n",
    "\n",
    "# Create a DataFrame for the encoded genres with proper column names\n",
    "encoded_genres_df = pd.DataFrame(encoded_genres, columns=feature_names)\n",
    "user_item_matrix_encoded = pd.concat([user_item_matrix.drop(columns=genre_cols), encoded_genres_df], axis=1)"
   ]
  },
  {
   "cell_type": "code",
   "execution_count": 4,
   "id": "ddc6ef64-9daa-441c-83ee-0095a69880eb",
   "metadata": {},
   "outputs": [],
   "source": [
    "# Initialize the K-Nearest Neighbors Model \n",
    "knn_movie_model = NearestNeighbors(n_neighbors=5, algorithm='auto', metric='cosine')\n",
    "\n",
    "# Define the Recommendation Algorithm Function\n",
    "def recommendation_algorithm(movie_name, matrix, movie_cf_model, n_recs):\n",
    "    # Fit model on matrix\n",
    "    movie_cf_model.fit(matrix.drop(['title', 'Year', 'average_rating', 'rating_count'], axis=1, errors='ignore'))\n",
    "    \n",
    "    # Try to find a close match for the movie name input using FuzzyWuzzy search\n",
    "    match = process.extractOne(movie_name, matrix.index)\n",
    "    print(\"Match:\", match)  # Error handling statement if movie is not found\n",
    "    if match and match[1] > 70:  # Lowered similarity threshold\n",
    "        movie_name_matched = match[0]\n",
    "    else:\n",
    "        return \"Movie not found or not a close match.\"\n",
    "   \n",
    "    # Get the movie title for the matched index\n",
    "    matched_movie_title = matrix.loc[movie_name_matched, 'title']\n",
    "    print(\"Matched Movie Title:\", matched_movie_title)  # Print the matched movie title\n",
    "    \n",
    "    # Get the movie row based on the matched movie name\n",
    "    movie_row = matrix.loc[movie_name_matched]\n",
    "    \n",
    "    # Calculate neighbor distances\n",
    "    distances, indices = movie_cf_model.kneighbors(movie_row.drop(['title', 'Year', 'average_rating', 'rating_count'], errors='ignore').values.reshape(1, -1), n_neighbors=n_recs)\n",
    "    movie_rec_ids = sorted(list(zip(indices.squeeze().tolist(), distances.squeeze().tolist())), key=lambda x: x[1])[:0:-1]\n",
    "    \n",
    "    # List to store recommendations\n",
    "    movie_recs = []\n",
    "    for i in movie_rec_ids:\n",
    "        movie_recs.append({'Movie ID': matrix.iloc[i[0]].name, 'Distance': i[1]})\n",
    "    \n",
    "    # Display the movie titles for the recommended movies\n",
    "    recommended_movies = pd.DataFrame(movie_recs)\n",
    "    recommended_movies['Title'] = recommended_movies['Movie ID'].apply(lambda x: matrix.loc[x, 'title'])\n",
    "    \n",
    "    # Select top number of recommendations needed\n",
    "    recommended_movies = recommended_movies[['Title', 'Distance']].head(n_recs)\n",
    "    \n",
    "    return recommended_movies\n"
   ]
  },
  {
   "cell_type": "code",
   "execution_count": 5,
   "id": "f2680599",
   "metadata": {},
   "outputs": [
    {
     "name": "stdout",
     "output_type": "stream",
     "text": [
      "Match: (20, 90)\n",
      "Matched Movie Title: Gravity (2013)\n"
     ]
    },
    {
     "data": {
      "text/html": [
       "<div>\n",
       "<style scoped>\n",
       "    .dataframe tbody tr th:only-of-type {\n",
       "        vertical-align: middle;\n",
       "    }\n",
       "\n",
       "    .dataframe tbody tr th {\n",
       "        vertical-align: top;\n",
       "    }\n",
       "\n",
       "    .dataframe thead th {\n",
       "        text-align: right;\n",
       "    }\n",
       "</style>\n",
       "<table border=\"1\" class=\"dataframe\">\n",
       "  <thead>\n",
       "    <tr style=\"text-align: right;\">\n",
       "      <th></th>\n",
       "      <th>Title</th>\n",
       "      <th>Distance</th>\n",
       "    </tr>\n",
       "  </thead>\n",
       "  <tbody>\n",
       "    <tr>\n",
       "      <th>0</th>\n",
       "      <td>The Amazing Spider-Man 2 (2014)</td>\n",
       "      <td>0.000000</td>\n",
       "    </tr>\n",
       "    <tr>\n",
       "      <th>1</th>\n",
       "      <td>Gravity (2013)</td>\n",
       "      <td>0.000000</td>\n",
       "    </tr>\n",
       "    <tr>\n",
       "      <th>2</th>\n",
       "      <td>Men in Black III (M.III.B.) (M.I.B.³) (2012)</td>\n",
       "      <td>0.133975</td>\n",
       "    </tr>\n",
       "    <tr>\n",
       "      <th>3</th>\n",
       "      <td>Tron: Legacy (2010)</td>\n",
       "      <td>0.133975</td>\n",
       "    </tr>\n",
       "    <tr>\n",
       "      <th>4</th>\n",
       "      <td>Transformers: Dark of the Moon (2011)</td>\n",
       "      <td>0.133975</td>\n",
       "    </tr>\n",
       "    <tr>\n",
       "      <th>5</th>\n",
       "      <td>Resident Evil: Retribution (2012)</td>\n",
       "      <td>0.133975</td>\n",
       "    </tr>\n",
       "    <tr>\n",
       "      <th>6</th>\n",
       "      <td>Transformers: Revenge of the Fallen (2009)</td>\n",
       "      <td>0.133975</td>\n",
       "    </tr>\n",
       "    <tr>\n",
       "      <th>7</th>\n",
       "      <td>Captain America: The Winter Soldier (2014)</td>\n",
       "      <td>0.133975</td>\n",
       "    </tr>\n",
       "    <tr>\n",
       "      <th>8</th>\n",
       "      <td>Amazing Spider-Man, The (2012)</td>\n",
       "      <td>0.133975</td>\n",
       "    </tr>\n",
       "    <tr>\n",
       "      <th>9</th>\n",
       "      <td>Star Wars: Episode II - Attack of the Clones (...</td>\n",
       "      <td>0.133975</td>\n",
       "    </tr>\n",
       "  </tbody>\n",
       "</table>\n",
       "</div>"
      ],
      "text/plain": [
       "                                               Title  Distance\n",
       "0                    The Amazing Spider-Man 2 (2014)  0.000000\n",
       "1                                     Gravity (2013)  0.000000\n",
       "2       Men in Black III (M.III.B.) (M.I.B.³) (2012)  0.133975\n",
       "3                                Tron: Legacy (2010)  0.133975\n",
       "4              Transformers: Dark of the Moon (2011)  0.133975\n",
       "5                  Resident Evil: Retribution (2012)  0.133975\n",
       "6         Transformers: Revenge of the Fallen (2009)  0.133975\n",
       "7         Captain America: The Winter Soldier (2014)  0.133975\n",
       "8                     Amazing Spider-Man, The (2012)  0.133975\n",
       "9  Star Wars: Episode II - Attack of the Clones (...  0.133975"
      ]
     },
     "execution_count": 5,
     "metadata": {},
     "output_type": "execute_result"
    }
   ],
   "source": [
    "# Print the matched movie title and a list of 10 recommended movies with their distance to the input, sorted by Distance\n",
    "recommended_movies = recommendation_algorithm(\"#Alive (2020)\", user_item_matrix, knn_movie_model, 11)\n",
    "recommended_movies.sort_values(\"Distance\").reset_index(drop=True)"
   ]
  },
  {
   "cell_type": "code",
   "execution_count": null,
   "id": "58941ba0",
   "metadata": {},
   "outputs": [],
   "source": []
  }
 ],
 "metadata": {
  "kernelspec": {
   "display_name": "Python 3 (ipykernel)",
   "language": "python",
   "name": "python3"
  },
  "language_info": {
   "codemirror_mode": {
    "name": "ipython",
    "version": 3
   },
   "file_extension": ".py",
   "mimetype": "text/x-python",
   "name": "python",
   "nbconvert_exporter": "python",
   "pygments_lexer": "ipython3",
   "version": "3.11.5"
  }
 },
 "nbformat": 4,
 "nbformat_minor": 5
}
